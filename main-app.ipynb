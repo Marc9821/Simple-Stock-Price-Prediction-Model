{
 "cells": [
  {
   "cell_type": "markdown",
   "metadata": {},
   "source": [
    "# Simple Stock Price Prediction Model\n",
    "\n",
    "Created by Marc Zeugin"
   ]
  },
  {
   "cell_type": "markdown",
   "metadata": {},
   "source": [
    "### Import modules"
   ]
  },
  {
   "cell_type": "code",
   "execution_count": null,
   "metadata": {},
   "outputs": [],
   "source": [
    "from numpy.random import seed\n",
    "seed(1)\n",
    "\n",
    "from sklearn.metrics import mean_squared_error, mean_absolute_error, r2_score, max_error\n",
    "from nn_models import lstm_prediction, dnn_prediction\n",
    "from sklearn.model_selection import train_test_split\n",
    "from plot_graph import plot_v_models, plot_v_stocks\n",
    "from sklearn.preprocessing import MinMaxScaler\n",
    "from get_stock_data import get_stock_data\n",
    "from get_macro_data import get_macro_data\n",
    "from models import predict_regression\n",
    "from prettytable import PrettyTable\n",
    "import matplotlib.pyplot as plt\n",
    "from forecast import user_input\n",
    "plt.style.use('seaborn-whitegrid')\n",
    "import seaborn as sns\n",
    "import pandas as pd\n",
    "import warnings\n",
    "warnings.filterwarnings(\"ignore\")\n",
    "import math"
   ]
  },
  {
   "cell_type": "markdown",
   "metadata": {},
   "source": [
    "### Set options"
   ]
  },
  {
   "cell_type": "code",
   "execution_count": null,
   "metadata": {},
   "outputs": [],
   "source": [
    "models = ['BR', 'R', 'RF'] # available options are CBR (CatBoostRegressor), SVM (SupportVectorRegressor), HGBR (HistGradientBoostingRegressor), BaR (BaggingRegressor),\n",
    "# GBR (GradientBoostingRegressor), ABR (AdaBoostRegressor), GPR (GaussianProcessRegressor), R (Ridge), LL (LassoLars), BR (BayesianRidge), LR (LinearRegression), \n",
    "# RF (RandomForestRegressor), and XGB (XGBRegressor), KNN (KNeighborsRegressor), L (Lasso), MLP (MLPRegressor), LGBM (LGBMRegressor), ET (ExtraTreeRegressor), \n",
    "# XGBRF (XGBRFRegressor), PR (PoissonRegressor), PAR (PassiveAggressiveRegressor)\n",
    "training_data_split = 0.8 # as a decimal\n",
    "shift = 2 # in days\n",
    "new_stocks = ['AAL', 'AAP', 'AAPL', 'AMZN', 'FTNT', 'GOOG', 'HPE', 'INTC', 'META', 'MSFT'] # add strings of symbols of new stocks to include\n",
    "start_date = \"2016-01-01\" # start date of stock data\n",
    "end_date = \"2021-12-29\" # end date of stock data\n",
    "cv_num = 3 # number of crossvalidations to do for hyperparameter tuning\n",
    "trial_num = 10 # number of trials to find optimal hyperparameters"
   ]
  },
  {
   "cell_type": "markdown",
   "metadata": {},
   "source": [
    "### Load financial data from yahoo finance API or local folder if available"
   ]
  },
  {
   "cell_type": "code",
   "execution_count": null,
   "metadata": {},
   "outputs": [],
   "source": [
    "ticker_hist_list, tickers = get_stock_data(new_stocks, start_date, end_date)"
   ]
  },
  {
   "cell_type": "markdown",
   "metadata": {},
   "source": [
    "### Display all stock closing price plots"
   ]
  },
  {
   "cell_type": "code",
   "execution_count": null,
   "metadata": {},
   "outputs": [],
   "source": [
    "plot_v_stocks(tickers, ticker_hist_list)"
   ]
  },
  {
   "cell_type": "markdown",
   "metadata": {},
   "source": [
    "### Create one dataset with all stock data"
   ]
  },
  {
   "cell_type": "code",
   "execution_count": null,
   "metadata": {},
   "outputs": [],
   "source": [
    "stock_data = pd.concat(ticker_hist_list, axis=1)\n",
    "col_names = ['open', 'high', 'low', 'close', 'volume']\n",
    "stock_data.columns = [col_name + '.' + ticker for ticker in tickers for col_name in col_names]\n",
    "stock_data.index.name = 'Date'\n",
    "print(stock_data.shape)"
   ]
  },
  {
   "cell_type": "code",
   "execution_count": null,
   "metadata": {},
   "outputs": [],
   "source": [
    "plot_df = pd.DataFrame()\n",
    "for column in stock_data.columns:\n",
    "    if column.startswith('close'):\n",
    "        plot_df[column] = stock_data[column].pct_change()\n",
    "sns.pairplot(plot_df, kind='reg')"
   ]
  },
  {
   "cell_type": "markdown",
   "metadata": {},
   "source": [
    "### Create stock data features"
   ]
  },
  {
   "cell_type": "code",
   "execution_count": null,
   "metadata": {},
   "outputs": [],
   "source": [
    "for ticker in tickers:\n",
    "    temp_ticker = f'Close.{ticker}'\n",
    "    weekly_mean = stock_data.rolling(7).mean()[temp_ticker]\n",
    "    stock_data[f'weekly_mean.{ticker}'] = weekly_mean / stock_data[temp_ticker]\n",
    "    stock_data[f'open_close_ratio.{ticker}'] = stock_data[f'Open.{ticker}'] / stock_data[temp_ticker]\n",
    "    stock_data[f'high_close_ratio.{ticker}'] = stock_data[f'High.{ticker}'] / stock_data[temp_ticker]\n",
    "    stock_data[f'low_close_ratio.{ticker}'] = stock_data[f'Low.{ticker}'] / stock_data[temp_ticker]\n",
    "    stock_data[f'high_minus_low.{ticker}'] = stock_data[f'High.{ticker}'] - stock_data[f'Low.{ticker}']\n",
    "    stock_data[f'daily_return.{ticker}'] = stock_data[temp_ticker].pct_change()\n",
    "stock_data = stock_data.iloc[6:]"
   ]
  },
  {
   "cell_type": "code",
   "execution_count": null,
   "metadata": {},
   "outputs": [],
   "source": [
    "stock_data.describe()"
   ]
  },
  {
   "cell_type": "markdown",
   "metadata": {},
   "source": [
    "### Pull macroeconomic data from API"
   ]
  },
  {
   "cell_type": "code",
   "execution_count": null,
   "metadata": {},
   "outputs": [],
   "source": [
    "macro_data = get_macro_data('FRED', True) # Specify the API to use (FRED, IMF, WB or ALL) and whether to load from macrodata.csv or download data"
   ]
  },
  {
   "cell_type": "markdown",
   "metadata": {},
   "source": [
    "### Adjust datastructure to match stock data"
   ]
  },
  {
   "cell_type": "code",
   "execution_count": null,
   "metadata": {},
   "outputs": [],
   "source": [
    "for index in macro_data.index:\n",
    "    if index not in stock_data.index:\n",
    "        macro_data.drop(index, axis=0, inplace=True)\n",
    "print(macro_data.shape)"
   ]
  },
  {
   "cell_type": "code",
   "execution_count": null,
   "metadata": {},
   "outputs": [],
   "source": [
    "macro_data.describe()"
   ]
  },
  {
   "cell_type": "markdown",
   "metadata": {},
   "source": [
    "### Add macroeconomic data to dataset"
   ]
  },
  {
   "cell_type": "code",
   "execution_count": null,
   "metadata": {},
   "outputs": [],
   "source": [
    "all_data = pd.concat([stock_data, macro_data], axis=1)\n",
    "print(all_data.shape)"
   ]
  },
  {
   "cell_type": "markdown",
   "metadata": {},
   "source": [
    "### Add lagged features to the dataset"
   ]
  },
  {
   "cell_type": "code",
   "execution_count": null,
   "metadata": {},
   "outputs": [],
   "source": [
    "for col in all_data:\n",
    "    for i in range(1, shift):\n",
    "        all_data[col + str(-i)] = all_data[col].shift(i)"
   ]
  },
  {
   "cell_type": "code",
   "execution_count": null,
   "metadata": {},
   "outputs": [],
   "source": [
    "# remove first i instances because of NaN from backward shifting\n",
    "for i in range(1, shift):\n",
    "    all_data.drop(index=all_data.index[0], axis=0, inplace=True)"
   ]
  },
  {
   "cell_type": "markdown",
   "metadata": {},
   "source": [
    "### Split into train and test"
   ]
  },
  {
   "cell_type": "code",
   "execution_count": null,
   "metadata": {},
   "outputs": [],
   "source": [
    "colum_name = f'Close.{\"AAP\"}'\n",
    "\n",
    "X = all_data.copy()\n",
    "X = X.drop(columns=[colum_name])\n",
    "y = all_data[colum_name].copy()\n",
    "\n",
    "print(f'X shape: {X.shape} & y shape: {y.shape}')\n",
    "\n",
    "X_train, X_test, y_train, y_test = train_test_split(X, y, train_size=training_data_split, shuffle=False)\n",
    "\n",
    "print(f'X_train shape: {X_train.shape} & X_test shape: {X_test.shape}')\n",
    "print(f'y_train shape: {y_train.shape} & y_test shape: {y_test.shape}')"
   ]
  },
  {
   "cell_type": "markdown",
   "metadata": {},
   "source": [
    "### Apply MinMaxScaler to dataset"
   ]
  },
  {
   "cell_type": "code",
   "execution_count": null,
   "metadata": {},
   "outputs": [],
   "source": [
    "scaler_x = MinMaxScaler()\n",
    "X_train = scaler_x.fit_transform(X_train)\n",
    "X_test = scaler_x.fit_transform(X_test)\n",
    "print(f'X_train shape: {X_train.shape} & X_test shape: {X_test.shape}')\n",
    "scaler_y = MinMaxScaler()\n",
    "y_train = scaler_y.fit_transform(y_train.values.reshape(-1, 1))\n",
    "y_test = scaler_y.fit_transform(y_test.values.reshape(-1, 1))\n",
    "print(f'X_train shape: {X_train.shape} & X_test shape: {X_test.shape}')"
   ]
  },
  {
   "cell_type": "markdown",
   "metadata": {},
   "source": [
    "### Reshape input for LSTM model to match requirements"
   ]
  },
  {
   "cell_type": "code",
   "execution_count": null,
   "metadata": {},
   "outputs": [],
   "source": [
    "X_train_nn = X_train.reshape(X_train.shape[0], X_train.shape[1], 1)\n",
    "X_test_nn = X_test.reshape(X_test.shape[0], X_test.shape[1], 1)\n",
    "print(f'X_train_nn shape: {X_train_nn.shape} & X_test_nn shape: {X_test_nn.shape}')\n",
    "y_train_nn = y_train.copy()\n",
    "y_test_nn = y_test.copy()\n",
    "print(f'y_train_nn shape: {y_train.shape} & y_test_nn shape: {y_test.shape}')"
   ]
  },
  {
   "cell_type": "markdown",
   "metadata": {},
   "source": [
    "### Fit LSTM model"
   ]
  },
  {
   "cell_type": "code",
   "execution_count": null,
   "metadata": {},
   "outputs": [],
   "source": [
    "history_lstm, test_predict_lstm = lstm_prediction(X_train_nn, y_train_nn, X_test_nn, y_test_nn)"
   ]
  },
  {
   "cell_type": "code",
   "execution_count": null,
   "metadata": {},
   "outputs": [],
   "source": [
    "print(history_lstm.history.keys())\n",
    "plt.figure(figsize=(16, 8))\n",
    "\n",
    "# Accuracy\n",
    "plt.plot(history_lstm.epoch, history_lstm.history['loss'], label = \"mse\")\n",
    "plt.plot(history_lstm.epoch, history_lstm.history['val_loss'], label = \"val mse\")\n",
    "plt.title(\"MSE\", fontsize=18)\n",
    "plt.xlabel(\"Epochs\", fontsize=15)\n",
    "plt.ylabel(\"MSE\", fontsize=15)\n",
    "plt.grid(alpha=0.3)\n",
    "plt.legend()\n",
    "\n",
    "plt.show()"
   ]
  },
  {
   "cell_type": "markdown",
   "metadata": {},
   "source": [
    "### Calculate RMSE and MAE"
   ]
  },
  {
   "cell_type": "code",
   "execution_count": null,
   "metadata": {},
   "outputs": [],
   "source": [
    "print(f'RMSE: {math.sqrt(mean_squared_error(y_test, test_predict_lstm))}')\n",
    "print(f'MSE: {mean_squared_error(y_test, test_predict_lstm)}')\n",
    "print(f'MAE: {mean_absolute_error(y_test, test_predict_lstm)}')"
   ]
  },
  {
   "cell_type": "markdown",
   "metadata": {},
   "source": [
    "### Plot prediction vs actual close price"
   ]
  },
  {
   "cell_type": "code",
   "execution_count": null,
   "metadata": {},
   "outputs": [],
   "source": [
    "plt.figure(figsize=(16, 8))\n",
    "plt.title(f'Ticker Predicted Closing Price Vs Actual Closing Price with LSTM - {tickers[2]}')\n",
    "plt.plot(y_test, color='red', label='Actual Close Price')\n",
    "plt.plot(test_predict_lstm, color='green', label='Predicted Closing Price')\n",
    "plt.legend(loc='best')\n",
    "plt.show()"
   ]
  },
  {
   "cell_type": "markdown",
   "metadata": {},
   "source": [
    "### Inverse predictions (if needed)"
   ]
  },
  {
   "cell_type": "code",
   "execution_count": null,
   "metadata": {},
   "outputs": [],
   "source": [
    "# y_test = scaler_y.inverse_transform(y_test)\n",
    "# test_predict_lstm = scaler_y.inverse_transform(test_predict_lstm)"
   ]
  },
  {
   "cell_type": "markdown",
   "metadata": {},
   "source": [
    "### Fit LSTM model"
   ]
  },
  {
   "cell_type": "code",
   "execution_count": null,
   "metadata": {},
   "outputs": [],
   "source": [
    "history_dnn, test_predict_dnn = dnn_prediction(X_train_nn, y_train_nn, X_test_nn, y_test_nn)"
   ]
  },
  {
   "cell_type": "code",
   "execution_count": null,
   "metadata": {},
   "outputs": [],
   "source": [
    "print(history_dnn.history.keys())\n",
    "plt.figure(figsize=(16, 8))\n",
    "\n",
    "# Accuracy\n",
    "plt.plot(history_dnn.epoch, history_dnn.history['loss'], label = \"mse\")\n",
    "plt.plot(history_dnn.epoch, history_dnn.history['val_loss'], label = \"val mse\")\n",
    "plt.title(\"MSE\", fontsize=18)\n",
    "plt.xlabel(\"Epochs\", fontsize=15)\n",
    "plt.ylabel(\"MSE\", fontsize=15)\n",
    "plt.grid(alpha=0.3)\n",
    "plt.legend()\n",
    "\n",
    "plt.show()"
   ]
  },
  {
   "cell_type": "markdown",
   "metadata": {},
   "source": [
    "### Calculate RMSE and MAE"
   ]
  },
  {
   "cell_type": "code",
   "execution_count": null,
   "metadata": {},
   "outputs": [],
   "source": [
    "print(f'RMSE: {math.sqrt(mean_squared_error(y_test, test_predict_dnn))}')\n",
    "print(f'MSE: {mean_squared_error(y_test, test_predict_dnn)}')\n",
    "print(f'MAE: {mean_absolute_error(y_test, test_predict_dnn)}')"
   ]
  },
  {
   "cell_type": "markdown",
   "metadata": {},
   "source": [
    "### Plot prediction vs actual close price"
   ]
  },
  {
   "cell_type": "code",
   "execution_count": null,
   "metadata": {},
   "outputs": [],
   "source": [
    "plt.figure(figsize=(16, 8))\n",
    "plt.title(f'Ticker Predicted Closing Price Vs Actual Closing Price with DNN- {tickers[2]}')\n",
    "plt.plot(y_test, color='red', label='Actual Close Price')\n",
    "plt.plot(test_predict_dnn, color='green', label='Predicted Closing Price')\n",
    "plt.legend(loc='best')\n",
    "plt.show()"
   ]
  },
  {
   "cell_type": "markdown",
   "metadata": {},
   "source": [
    "### Preparation for non-NN Models"
   ]
  },
  {
   "cell_type": "code",
   "execution_count": null,
   "metadata": {},
   "outputs": [],
   "source": [
    "X = all_data.drop([f'Close.{\"AAP\"}'], axis=1)\n",
    "y = all_data[f'Close.{\"AAP\"}']\n",
    "\n",
    "X_train, X_test, y_train, y_test = train_test_split(X, y, train_size=training_data_split, shuffle=False)\n",
    "X_train.sort_index(inplace=True)\n",
    "X_test.sort_index(inplace=True)\n",
    "y_train.sort_index(inplace=True)\n",
    "y_test.sort_index(inplace=True)\n",
    "print(f'Training sample size: {X_train.shape[0]}, {X_train.shape[1]} and testing sample size: {X_test.shape[0]}, {X_test.shape[1]}.')"
   ]
  },
  {
   "cell_type": "markdown",
   "metadata": {},
   "source": [
    "### Apply MinMaxScaler to dataset"
   ]
  },
  {
   "cell_type": "code",
   "execution_count": null,
   "metadata": {},
   "outputs": [],
   "source": [
    "scaler_x2 = MinMaxScaler()\n",
    "scaler_y2 = MinMaxScaler()\n",
    "X_train = scaler_x2.fit_transform(X_train)\n",
    "X_test = scaler_x2.fit_transform(X_test)\n",
    "y_train = scaler_y2.fit_transform(y_train.values.reshape(-1, 1))\n",
    "y_test = scaler_y2.fit_transform(y_test.values.reshape(-1, 1))"
   ]
  },
  {
   "cell_type": "markdown",
   "metadata": {},
   "source": [
    "### Prediction with selected models"
   ]
  },
  {
   "cell_type": "code",
   "execution_count": null,
   "metadata": {},
   "outputs": [],
   "source": [
    "# This step may take a while depending on the models selected, number of models, and your pc specs\n",
    "y_pred, studies, comp_models = predict_regression(models, X_train, y_train, X_test, cv_num, trial_num)"
   ]
  },
  {
   "cell_type": "code",
   "execution_count": null,
   "metadata": {},
   "outputs": [],
   "source": [
    "x = PrettyTable()\n",
    "x.field_names = [\"Model\", \"R2 Score\", 'RMSE', 'MAE', 'Max Error']\n",
    "\n",
    "for key, value in y_pred.items():\n",
    "    x.add_row([key, format(r2_score(y_test, value), '.4f'), format(math.sqrt(mean_squared_error(y_test, value)), '.4f'), \\\n",
    "               format(mean_absolute_error(y_test, value), '.4f'), format(max_error(y_test, value), '.4f')])\n",
    "\n",
    "print(x)"
   ]
  },
  {
   "cell_type": "markdown",
   "metadata": {},
   "source": [
    "### Plot prediction vs actual close price"
   ]
  },
  {
   "cell_type": "code",
   "execution_count": null,
   "metadata": {},
   "outputs": [],
   "source": [
    "plot_v_models(models, y_test, y_pred)"
   ]
  },
  {
   "cell_type": "markdown",
   "metadata": {},
   "source": [
    "### Function to predict user selected stock performance"
   ]
  },
  {
   "cell_type": "code",
   "execution_count": null,
   "metadata": {},
   "outputs": [],
   "source": [
    "# user_input()"
   ]
  }
 ],
 "metadata": {
  "interpreter": {
   "hash": "c256a0ef0c7c1062e6eedd179717da38637951a07f4c947aeab5ac21eab3aa24"
  },
  "kernelspec": {
   "display_name": "Python 3.9.12 ('venv': venv)",
   "language": "python",
   "name": "python3"
  },
  "language_info": {
   "codemirror_mode": {
    "name": "ipython",
    "version": 3
   },
   "file_extension": ".py",
   "mimetype": "text/x-python",
   "name": "python",
   "nbconvert_exporter": "python",
   "pygments_lexer": "ipython3",
   "version": "3.9.12"
  },
  "orig_nbformat": 4,
  "vscode": {
   "interpreter": {
    "hash": "bd4da09c471a0a0a9606cbd4d8e7c044c0a69328996f661a02e45ec4e780b8c8"
   }
  }
 },
 "nbformat": 4,
 "nbformat_minor": 2
}
